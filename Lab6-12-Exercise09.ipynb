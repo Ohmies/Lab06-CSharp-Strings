{
 "cells": [
  {
   "cell_type": "markdown",
   "metadata": {
    "dotnet_interactive": {
     "language": "csharp"
    },
    "polyglot_notebook": {
     "kernelName": "csharp"
    }
   },
   "source": [
    "# Lab 3 Exercise 9\n"
   ]
  },
  {
   "cell_type": "markdown",
   "metadata": {},
   "source": [
    "\n",
    "## Using StringBuilder\n",
    "จากการทดลองที่ผ่านมา เราจะเห็นว่า string เป็น object ชนิด immutable คือไม่สามารถแก้ไขได้ การแก้ไขใดๆ ใน string จะส่งผลให้ระบบสร้าง string ใหม่ขึ้นมาแทน string เก่า\n",
    "\n",
    "ในการใช้งานที่มีปริมาณการกระทำต่อ string ซ้ำ ๆ เป็นจำนวนมาก อาจจะก่อให้เกิดปัญหาด้านประสิทธิภาพการทำงานของระบบคอมพิวเตอร์ได้\n",
    "\n",
    "คลาส StringBuilder จะมีการสร้าง buffer ของ string ไว้ภายใน ทำให้ไม่ต้องสร้าง string ใหม่เมื่อมีการเปลี่ยนแปลงค่าในข้อความดังเช่นการใช้ string โดยทั่วไป\n",
    " \n"
   ]
  },
  {
   "cell_type": "markdown",
   "metadata": {},
   "source": [
    "## การปฏิบัติ"
   ]
  },
  {
   "cell_type": "markdown",
   "metadata": {},
   "source": [
    "1. สร้าง project ใหม่\n",
    "\n",
    ">   ```\n",
    ">       dotnet new console -n Lab06_Exercise09\n",
    ">   ```"
   ]
  },
  {
   "cell_type": "markdown",
   "metadata": {},
   "source": [
    "2. แก้ไข code ใน Program.cs เป็นดังนี้\n",
    "\n",
    ">   ```c#\n",
    ">       System.Text.StringBuilder sb = new System.Text.StringBuilder(\"Rat is my favorite animal.\");\n",
    ">       \n",
    ">       System.Console.WriteLine(@$\"Before change : sb = {sb.ToString()}, \n",
    ">       sb.GetHashCode = {sb.GetHashCode()}\");\n",
    ">       \n",
    ">       System.Console.WriteLine(@\"Replace first char in sb  from R to C\");\n",
    ">       sb[0] = 'C';\n",
    ">       \n",
    ">       System.Console.WriteLine(@$\"After change : sb = {sb.ToString()}, \n",
    ">       sb.GetHashCode = {sb.GetHashCode()}\");\n",
    ">   ```"
   ]
  },
  {
   "cell_type": "markdown",
   "metadata": {},
   "source": [
    "3. อธิบายโปรแกรม\n",
    "\n",
    "ให้ศึกษาโปรแกรมด้านบนและอธิบายการทำงาน\n",
    "\n",
    "บรรทัดที่ 1 สร้างตัวแปร sb ที่เป็นชนิด StringBuilder และกำหนดค่าเริ่มต้นเป็น \"Rat is my favorite animal.\"\n",
    "\n",
    "บรรทัดที่ 3 ใช้ Console.WriteLine แสดงค่าของ sb โดยแปลง sb เป็น string ด้วย ToString() และแสดงค่า Hash Code ของ sb โดยใช้ GetHashCode()\n",
    "\n",
    "บรรทัดที่ 5 แสดงข้อความว่า จะทำการแทนที่ตัวอักษรแรกใน sb จาก 'R' เป็น 'C'\n",
    "\n",
    "บรรทัดที่ 6 ใช้ sb[0] = 'C'; เพื่อแก้ไขอักขระตัวแรกใน StringBuilder ให้เป็น 'C'\n",
    "\n",
    "บรรทัดที่ 8 ใช้ Console.WriteLine แสดงผลลัพธ์หลังการเปลี่ยนแปลงโดยแสดงค่าของ sb และค่า GetHashCode() หลังการเปลี่ยนแปลง"
   ]
  },
  {
   "cell_type": "markdown",
   "metadata": {},
   "source": [
    "4. รันโปรแกรม\n",
    "\n",
    ">   ```\n",
    ">       dotnet run --project Lab06_Exercise09\n",
    ">   ```"
   ]
  },
  {
   "cell_type": "markdown",
   "metadata": {},
   "source": [
    "5. แก้ไข code ใน Program.cs เป็นดังนี้\n",
    "\n",
    ">   ```c#\n",
    ">       var sb = new System.Text.StringBuilder();\n",
    ">       \n",
    ">       // Create a string composed of numbers 0 - 9\n",
    ">       for (int i = 0; i < 10; i++)\n",
    ">       {\n",
    ">           System.Console.Write ($\"Loop {i+1, 2} : \");\n",
    ">           sb.Append(i.ToString());\n",
    ">           System.Console.WriteLine($\"sb = {sb.ToString(),-11}, sb.GetHashCode() = {sb.GetHashCode()}\");\n",
    ">       }\n",
    ">       Console.WriteLine($\"Finally : sb = {sb}\");  \n",
    ">   ```\n"
   ]
  },
  {
   "cell_type": "markdown",
   "metadata": {},
   "source": [
    "6. อธิบายโปรแกรม\n",
    "\n",
    "ให้ศึกษาโปรแกรมด้านบนและอธิบายการทำงาน\n",
    "\n",
    "บรรทัดที่ 1 สร้างตัวแปร sb ที่เป็นชนิด StringBuilder โดยไม่ได้กำหนดค่าเริ่มต้น\n",
    "\n",
    "บรรทัดที่ 3-7 ใช้ลูป for ในการทำซ้ำตั้งแต่ i = 0 ถึง i = 9 เพื่อเพิ่มตัวเลข 0-9 ลงใน sb โดยใช้ sb.Append(i.ToString()) ในแต่ละรอบของลูป\n",
    "\n",
    "ภายในลูป\n",
    "\n",
    "ในแต่ละรอบจะพิมพ์ข้อความที่บ่งบอกลำดับรอบของลูป เช่น \"Loop 1 : \" โดยการจัดรูปแบบให้เลขลำดับมีการเว้นช่องว่างตามที่กำหนด ค่า sb จะถูกอัปเดตทุกครั้งโดยเพิ่มตัวเลขที่เป็นสตริงจาก i แสดงค่าของ sb และค่า HashCode ของ sb หลังจากการอัปเดตในแต่ละรอบของลูป\n",
    "\n",
    "บรรทัดที่ 9 หลังจากลูปทำงานเสร็จสิ้น จะแสดงค่าของ sb สุดท้าย ซึ่งจะมีตัวเลขจาก 0-9 รวมกันใน sb"
   ]
  },
  {
   "cell_type": "markdown",
   "metadata": {},
   "source": [
    "\n",
    "7. รันโปรแกรม\n",
    "\n",
    ">   ```\n",
    ">       dotnet run --project Lab03_Exercise09\n",
    ">   ```\n",
    "\n"
   ]
  },
  {
   "cell_type": "markdown",
   "metadata": {},
   "source": [
    "8. การส่งงาน\n",
    "\n",
    "บันทึกภาพหน้าจอโปรแกรม แนบในใบงานนี้\n",
    "\n",
    "![Image](Picture/pic10.png\n",
    ")\n",
    "![Image](Picture/pic11.png)"
   ]
  }
 ],
 "metadata": {
  "kernelspec": {
   "display_name": ".NET (C#)",
   "language": "C#",
   "name": ".net-csharp"
  },
  "polyglot_notebook": {
   "kernelInfo": {
    "defaultKernelName": "csharp",
    "items": [
     {
      "aliases": [],
      "languageName": "csharp",
      "name": "csharp"
     }
    ]
   }
  }
 },
 "nbformat": 4,
 "nbformat_minor": 2
}
