{
 "cells": [
  {
   "cell_type": "markdown",
   "metadata": {
    "dotnet_interactive": {
     "language": "csharp"
    },
    "polyglot_notebook": {
     "kernelName": "csharp"
    }
   },
   "source": [
    "# Lab 6 Exercise 8"
   ]
  },
  {
   "cell_type": "markdown",
   "metadata": {},
   "source": [
    "## Null strings and empty strings\n",
    "\n",
    "Empty strings คือ object ของ string ที่ว่างเปล่า (ความยาวของข้อความที่เก็บใน string เป็นศูนย์) เราสามารถใช้งาน method ต่างๆ ของ string ได้ตามปกติ\n",
    "\n",
    "Null strings คือ reference ที่ไม่ได้ชี้ไปยัง string ใดๆ เลย ถ้าเราพยายามใช้งาน จะเกิดการผิดพลาดที่ชื่อว่า  [NullReferenceException](https://learn.microsoft.com/en-us/dotnet/api/system.nullreferenceexception?view=net-8.0)  \n",
    "\n",
    "อย่างไรก็ตาม เราสามารถใช้ null strings ในการเปรียบเทียบหรือเชื่อมต่อกับ string อื่นๆ"
   ]
  },
  {
   "cell_type": "markdown",
   "metadata": {},
   "source": [
    "## การปฏิบัติ"
   ]
  },
  {
   "cell_type": "markdown",
   "metadata": {},
   "source": [
    "1. สร้าง project ใหม่\n",
    "\n",
    ">   ```\n",
    ">       dotnet new console -n Lab06_Exercise08\n",
    ">   ```"
   ]
  },
  {
   "cell_type": "markdown",
   "metadata": {},
   "source": [
    "\n",
    "2. แก้ไข code ใน Program.cs เป็นดังนี้\n",
    "\n",
    ">   ```c#\n",
    ">       // 1. สร้าง object ของ string ตามปกติ  \n",
    ">       string str = \"hello\";\n",
    ">       \n",
    ">       // 2. สร้าง string  ที่ไม่ชี้ไปที่ object ใดๆ   \n",
    ">       string? nullStr = null;\n",
    ">       \n",
    ">       // 3. สร้าง string ที่ว่าง   \n",
    ">       string emptyStr = String.Empty;\n",
    ">       \n",
    ">       // 4. null string สามารถใช้เชื่อมต่อกับ string อื่น ๆ ได้ \n",
    ">       string tempStr = str + nullStr;\n",
    ">       System.Console.WriteLine($\"tempStr = {tempStr}\");  \n",
    ">       \n",
    ">       // 5. เปรียบเทียบว่า  emptyStr กับ nullStr  เป็นอย่างเดียวกันหรือไม่\n",
    ">       bool b = (emptyStr == nullStr);\n",
    ">       System.Console.WriteLine($\"Check (emptyStr == nullStr) result is  {b}\");\n",
    ">       \n",
    ">       // 6. สร้าง string ใหม่จาก   emptyStr และ nullStr  \n",
    ">       string newStr = emptyStr + nullStr;\n",
    ">       System.Console.WriteLine($\"emptyStr.Length = {emptyStr.Length}\");\n",
    ">       System.Console.WriteLine($\"newStr.Length = {newStr.Length}\");\n",
    ">       System.Console.WriteLine($\"newStr = {newStr}\");\n",
    ">       \n",
    ">       // 7. ถ้าบรรทัดนี้ error ให้ comment ออกแล้ว run ใหม่ \n",
    ">       // Capture  หน้าจอไว้ด้วยว่าโปรแกรมแสดง error อย่างไร\n",
    ">       System.Console.WriteLine($\"nullStr.Length = {nullStr.Length}\");\n",
    ">       \n",
    ">       // 8. อักขระ null จะสามารถส่งไปแแสดงผลและถูกนับเป็นหนึ่งอักขระเช่นเดียวกับอักขระอื่น ๆ > เพีย      แต่มันไม่แสดงรูปร่างบนหน้าจอภาพ  \n",
    ">       // 8.1 เชื่อมอักขระปกติต่อท้ายอักขระ null\n",
    ">       string s1 = \"\\x0\" + \"abc\";\n",
    ">       System.Console.WriteLine(@\"s1 = \"\"\\x0\"\" + \"\"abc\"\"\");\n",
    ">       System.Console.WriteLine($\"s1 = *{s1}*, s1.Length = {s1.Length}\");\n",
    ">       \n",
    ">       // 8.2 เชื่อมอักขระ null ต่อท้ายอักขระปกติ\n",
    ">       string s2 = \"abc\" + \"\\x0\";\n",
    ">       System.Console.WriteLine(@\"s2 = \"\"abc\"\" + \"\"\\x0\"\"\");\n",
    ">       System.Console.WriteLine($\"s2 = *{s2}*, s2.Length = {s2.Length}\");\n",
    ">   ```"
   ]
  },
  {
   "cell_type": "markdown",
   "metadata": {},
   "source": [
    "3. อธิบายโปรแกรม\n",
    "\n",
    "ให้ศึกษาโปรแกรมด้านบนและอธิบายการทำงาน\n",
    "\n",
    "บรรทัดที่ ข้อ1 สร้างตัวแปร str และกำหนดค่าเป็น \"hello\"\n",
    "\n",
    "บรรทัดที่ ข้อ2 สร้างตัวแปร nullStr และกำหนดค่าเป็น null ซึ่งเป็นการสร้าง string ที่ไม่ชี้ไปที่อ็อบเจ็กต์ใดๆ\n",
    "\n",
    "บรรทัดที่ ข้อ3 สร้างตัวแปร emptyStr และกำหนดค่าเป็น String.Empty ซึ่งหมายถึง string ที่ว่างเปล่า\n",
    "\n",
    "บรรทัดที่ ข้อ4 เชื่อม str และ nullStr เข้าด้วยกันโดยใช้การบวก (+) ซึ่งจะให้ผลลัพธ์เป็น \"hello\" เพราะ nullStr จะถูกแปลงเป็น string ว่างเปล่า (\"\")\n",
    "\n",
    "บรรทัดที่ ข้อ4 แสดงผลค่า tempStr ซึ่งมีค่าเป็น \"hello\"\n",
    "\n",
    "บรรทัดที่ ข้อ5 เปรียบเทียบว่า emptyStr กับ nullStr เป็นค่าเดียวกันหรือไม่ โดยใช้การเปรียบเทียบ == ซึ่งจะให้ผลลัพธ์เป็น false เนื่องจาก emptyStr เป็น string ว่าง และ nullStr เป็น null\n",
    "\n",
    "บรรทัดที่ ข้อ6 เชื่อม emptyStr กับ nullStr และเก็บผลลัพธ์ในตัวแปร newStr ซึ่งจะให้ค่าเป็น string ว่าง (\"\")\n",
    "\n",
    "บรรทัดที่ ข้อ6 แสดงความยาวของ emptyStr และ newStr ซึ่งทั้งสองตัวจะมีความยาว (Length) เท่ากับ 0\n",
    "\n",
    "บรรทัดที่ข้อ 8.1 สร้าง s1 โดยเชื่อมอักขระ \\x0 (อักขระ null) กับ string \"abc\". ผลลัพธ์คือ string ที่มีอักขระ null อยู่ก่อน \"abc\" แต่ \\x0 จะไม่แสดงผลบนหน้าจอ\n",
    "\n",
    "บรรทัดที่ข้อ 8.2 สร้าง s2 โดยการเชื่อม \"abc\" กับ \\x0. ผลลัพธ์จะเป็น string ที่มีอักขระ null อยู่หลัง \"abc\" ซึ่ง \\x0 จะไม่แสดงผลบนหน้าจอ"
   ]
  },
  {
   "cell_type": "markdown",
   "metadata": {},
   "source": [
    "\n",
    "4. รันโปรแกรม\n",
    "\n",
    ">   ```\n",
    ">       dotnet run --project Lab06_Exercise08\n",
    ">   ```\n",
    "\n"
   ]
  },
  {
   "cell_type": "markdown",
   "metadata": {},
   "source": [
    "5. การส่งงาน\n",
    "\n",
    "บันทึกภาพหน้าจอโปรแกรม แนบในใบงานนี้\n",
    "![Image](Picture/pic9.png)"
   ]
  }
 ],
 "metadata": {
  "kernelspec": {
   "display_name": ".NET (C#)",
   "language": "C#",
   "name": ".net-csharp"
  },
  "polyglot_notebook": {
   "kernelInfo": {
    "defaultKernelName": "csharp",
    "items": [
     {
      "aliases": [],
      "languageName": "csharp",
      "name": "csharp"
     }
    ]
   }
  }
 },
 "nbformat": 4,
 "nbformat_minor": 2
}
