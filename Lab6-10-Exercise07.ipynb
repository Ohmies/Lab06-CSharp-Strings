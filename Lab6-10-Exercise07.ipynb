{
 "cells": [
  {
   "cell_type": "markdown",
   "metadata": {
    "dotnet_interactive": {
     "language": "csharp"
    },
    "polyglot_notebook": {
     "kernelName": "csharp"
    }
   },
   "source": [
    "# Lab 6 Exercise 7"
   ]
  },
  {
   "cell_type": "markdown",
   "metadata": {},
   "source": [
    "\n",
    "## Substrings\n",
    "\n",
    "Substrings ใช้สร้าง string ใหม่จากส่วนหนึ่งของ string  ต้นฉบับ \n",
    "การกระทำของ method ต่างๆ จะไม่มีการแก้ไขสตริงดั้งเดิม "
   ]
  },
  {
   "cell_type": "markdown",
   "metadata": {},
   "source": [
    "## การปฏิบัติ"
   ]
  },
  {
   "cell_type": "markdown",
   "metadata": {},
   "source": [
    "1. สร้าง project ใหม่\n",
    "\n",
    ">   ```\n",
    ">       dotnet new console -n Lab06_Exercise07\n",
    ">   ```"
   ]
  },
  {
   "cell_type": "markdown",
   "metadata": {},
   "source": [
    "2. แก้ไข code ใน Program.cs เป็นดังนี้"
   ]
  },
  {
   "cell_type": "markdown",
   "metadata": {},
   "source": [
    "\n",
    "2.1 Program #1\n",
    "\n",
    ">   ```c#\n",
    ">       string s1 = \"I \\u0003 Visual C# \";\n",
    ">       System.Console.WriteLine($\"s1 = {s1}\");\n",
    ">       \n",
    ">       // 1. เมธอด IndexOf() ใช้ค้นหาลำดับที่ของอักขระที่ปรากฏใน string และส่งค่าตำแหน่งที่พบมาให้ (Zero index)\n",
    ">       var indexOfC = s1.IndexOf(\"C\");\n",
    ">       System.Console.WriteLine($\"Index of C in s1 = {indexOfC}\");\n",
    ">       \n",
    ">       // 2. เมธอด Substring(  ) คัดลอกบางส่วนของ string ต้นฉบับออกมา โดยการระบุพารามิเตอร์ >    ตำแหน่ งเริ่มต้นและความยาวที่ต้องการ \n",
    ">       var substring = s1.Substring(indexOfC, 2);\n",
    ">       System.Console.WriteLine($\"s1.Substring({indexOfC}, 2) = {substring}\");\n",
    ">       \n",
    ">       // 3. เมธอด Replace(  ) ใช้แทนที่บางส่วนของ string  ด้วย string ที่กำหนด \n",
    ">       System.Console.WriteLine($\"Replace C# with Basic and write to s2\");\n",
    ">       System.Console.WriteLine($\"Before replace s1.hashcode = {s1.GetHashCode():X}\"); \n",
    ">       var s2 = s1.Replace(\"C#\", \"Basic\");\n",
    ">       System.Console.WriteLine($\"s1 = {s1}\");\n",
    ">       System.Console.WriteLine($\"s2 = {s2}\");\n",
    ">       System.Console.WriteLine($\"After replace s1.hashcode = {s1.GetHashCode():X}\"); \n",
    ">   ```"
   ]
  },
  {
   "cell_type": "markdown",
   "metadata": {},
   "source": [
    "2.2 อธิบายโปรแกรม\n",
    "\n",
    "ให้ศึกษาโปรแกรมด้านบนและอธิบายการทำงาน\n",
    "\n",
    "บรรทัดที่ 1 กำหนดตัวแปร s1 เป็นข้อความ \"I \\u0003 Visual C# \" โดย \\u0003 คือ Unicode Character ที่แสดงเป็นอักขระพิเศษ\n",
    "\n",
    "บรรทัดที่ 2 ใช้ Console.WriteLine แสดงค่า s1 ลงในคอนโซล\n",
    "\n",
    "บรรทัดที่ 4 ใช้เมธอด IndexOf(\"C\") เพื่อค้นหาตำแหน่งของอักขระ C ในข้อความ s1 โดยตำแหน่งเริ่มนับจาก 0 (Zero-indexed) และบันทึกผลในตัวแปร indexOfC\n",
    "\n",
    "บรรทัดที่ 5 ใช้ Console.WriteLine แสดงตำแหน่งที่พบอักขระ C จากตัวแปร indexOfC\n",
    "\n",
    "บรรทัดที่ 7 ใช้เมธอด Substring(indexOfC, 2) เพื่อคัดลอกบางส่วนของข้อความ s1 โดยเริ่มจากตำแหน่ง indexOfC และคัดลอก 2 ตัวอักษรเก็บไว้ในตัวแปร substring\n",
    "\n",
    "บรรทัดที่ 8 ใช้ Console.WriteLine แสดงข้อความบางส่วนที่คัดลอกโดย Substring\n",
    "\n",
    "บรรทัดที่ 10 ใช้ Console.WriteLine แสดงข้อความระบุว่าเมธอด Replace จะถูกนำมาใช้แทนที่ข้อความ\n",
    "\n",
    "บรรทัดที่ 11 ใช้ Console.WriteLine แสดงค่า Hash Code ของ s1 ก่อนทำการแทนที่ โดยใช้ GetHashCode\n",
    "\n",
    "บรรทัดที่ 12 ใช้เมธอด Replace(\"C#\", \"Basic\") เพื่อแทนที่ข้อความ \"C#\" ด้วย \"Basic\" ใน s1 และเก็บผลลัพธ์ในตัวแปร s2\n",
    "\n",
    "บรรทัดที่ 13 ใช้ Console.WriteLine แสดงค่า s1 หลังจากใช้เมธอด Replace\n",
    "\n",
    "บรรทัดที่ 14 ใช้ Console.WriteLine แสดงค่า s2 ซึ่งเป็นข้อความที่ได้จากการแทนที่\n",
    "\n",
    "บรรทัดที่ 15 ใช้ Console.WriteLine แสดงค่า Hash Code ของ s1 หลังการแทนที่ โดยยืนยันว่า s1 ไม่เปลี่ยนแปลง แต่ข้อความใหม่อยู่ใน s2"
   ]
  },
  {
   "cell_type": "markdown",
   "metadata": {},
   "source": [
    "2.3 รันโปรแกรม\n",
    "\n",
    ">   ```\n",
    ">       dotnet run --project Lab03_Exercise07\n",
    ">   ```\n"
   ]
  },
  {
   "cell_type": "markdown",
   "metadata": {},
   "source": [
    "2.4 commit code  เนื่องจากต้องมีการแก้ไข code "
   ]
  },
  {
   "cell_type": "markdown",
   "metadata": {},
   "source": [
    "3. แก้ไข code ใน Program.cs เป็นดังนี้"
   ]
  },
  {
   "cell_type": "markdown",
   "metadata": {},
   "source": [
    "\n",
    "3.1 Program #2\n",
    "\n",
    ">   ```c#\n",
    ">       string s1 = \"I \\u0003 Visual C# \";\n",
    ">       System.Console.WriteLine($\"s1 = {s1}\");\n",
    ">       \n",
    ">       // 1. เมธอด IndexOf() ใช้ค้นหาลำดับที่ของอักขระที่ปรากฏใน string และส่งค่าตำแหน่งที่พบมาให้ (Zero index)\n",
    ">       var indexOfC = s1.IndexOf(\"C\");\n",
    ">       System.Console.WriteLine($\"Index of C in s1 = {indexOfC}\");\n",
    ">       \n",
    ">       // 2. เมธอด Substring(  ) คัดลอกบางส่วนของ string ต้นฉบับออกมา โดยการระบุพารามิเตอร์ >    ตำแหน่ งเริ่มต้นและความยาวที่ต้องการ \n",
    ">       var substring = s1.Substring(indexOfC, 2);\n",
    ">       System.Console.WriteLine($\"s1.Substring({indexOfC}, 2) = {substring}\");\n",
    ">       \n",
    ">       // 3. เมธอด Replace(  ) ใช้แทนที่บางส่วนของ string  ด้วย string ที่กำหนด \n",
    ">       System.Console.WriteLine($\"Replace C# with Basic and write to s2\");\n",
    ">       System.Console.WriteLine($\"Before replace s1.hashcode = {s1.GetHashCode():X}\"); \n",
    ">       s1 = s1.Replace(\"C#\", \"Basic\");\n",
    ">       System.Console.WriteLine($\"s1 = {s1}\");\n",
    ">       System.Console.WriteLine($\"After replace s1.hashcode = {s1.GetHashCode():X}\"); \n",
    ">   ```\n"
   ]
  },
  {
   "cell_type": "markdown",
   "metadata": {},
   "source": [
    "3.2 อธิบายโปรแกรม\n",
    "\n",
    "ให้ศึกษาโปรแกรมด้านบนและอธิบายการทำงาน\n",
    "\n",
    "บรรทัดที่ 1 กำหนดตัวแปร s1 เป็นข้อความ \"I \\u0003 Visual C# \" โดย \\u0003 คือ Unicode Character ซึ่งจะแสดงเป็นอักขระพิเศษ\n",
    "\n",
    "บรรทัดที่ 2 ใช้ Console.WriteLine แสดงข้อความในตัวแปร s1 ลงในคอนโซล\n",
    "\n",
    "บรรทัดที่ 4 ใช้เมธอด IndexOf(\"C\") เพื่อค้นหาตำแหน่งของอักขระ C ในข้อความ s1 โดยตำแหน่งเริ่มนับจาก 0 (Zero-indexed) และบันทึกผลในตัวแปร indexOfC\n",
    "\n",
    "บรรทัดที่ 5 ใช้ Console.WriteLine แสดงตำแหน่งที่พบอักขระ C ซึ่งเก็บในตัวแปร indexOfC\n",
    "\n",
    "บรรทัดที่ 7 ใช้เมธอด Substring(indexOfC, 2) เพื่อคัดลอกบางส่วนของข้อความ s1 โดยเริ่มจากตำแหน่ง indexOfC และคัดลอก 2 ตัวอักษร เก็บไว้ในตัวแปร substring\n",
    "\n",
    "บรรทัดที่ 8 ใช้ Console.WriteLine แสดงข้อความบางส่วนที่คัดลอกโดย Substring\n",
    "\n",
    "บรรทัดที่ 10 ใช้ Console.WriteLine แสดงข้อความแจ้งว่ากำลังใช้เมธอด Replace\n",
    "\n",
    "บรรทัดที่ 11 ใช้ Console.WriteLine แสดงค่า Hash Code ของ s1 ก่อนที่จะทำการแทนที่ โดยใช้ GetHashCode\n",
    "\n",
    "บรรทัดที่ 12 ใช้เมธอด Replace(\"C#\", \"Basic\") เพื่อแทนที่ข้อความ \"C#\" ด้วย \"Basic\" ในตัวแปร s1\n",
    "\n",
    "บรรทัดที่ 13 ใช้ Console.WriteLine แสดงค่าของ s1 หลังจากการแทนที่\n",
    "\n",
    "บรรทัดที่ 14 ใช้ Console.WriteLine แสดงค่า Hash Code ของ s1 หลังการแทนที่ เพื่อยืนยันว่า s1 ถูกแก้ไขแล้ว"
   ]
  },
  {
   "cell_type": "markdown",
   "metadata": {},
   "source": [
    "3.3 รันโปรแกรม\n",
    "\n",
    ">   ```cmd\n",
    ">       dotnet run --project Lab06_Exercise07\n",
    ">   ```"
   ]
  },
  {
   "cell_type": "markdown",
   "metadata": {},
   "source": [
    "\n",
    "4. คำถาม\n",
    "\n",
    "โปรแกรม #1 ในข้อ 2 และโปรแกรม #2 ในข้อ 3 มีผลลัพธ์ที่ต่างกันอย่างไร\n",
    "\n",
    "อธิบายว่าทำไมจึงเป็นเช่นนั้น\n",
    "\n",
    "ตอบ ผลลัพธ์ใน s1\n",
    "\n",
    "โปรแกรม #1: s1 ยังคงค่าเดิมคือ \"I ♥ Visual C# \" โปรแกรม #2: s1 ถูกแก้ไขเป็น \"I ♥ Visual Basic \"\n",
    "\n",
    "ผลลัพธ์ของ Hash Code\n",
    "\n",
    "โปรแกรม #1: ค่า Hash Code ของ s1 ไม่เปลี่ยนแปลง โปรแกรม #2: ค่า Hash Code ของ s1 เปลี่ยนไป เนื่องจากข้อความใน s1 ถูกแทนที่\n",
    "\n",
    "สาเหตุที่แตกต่างกัน\n",
    "\n",
    "โปรแกรม #1: ใช้ Replace เพื่อสร้างข้อความใหม่ (s2) โดยไม่เปลี่ยนแปลงค่าเดิม (s1) เนื่องจาก Strings ใน C# เป็น Immutable (ไม่สามารถเปลี่ยนแปลงข้อความเดิมได้โดยตรง)\n",
    "\n",
    "โปรแกรม #2: ผลลัพธ์ของ Replace ถูกนำไปเก็บใน s1 ทำให้ s1 มีค่าข้อความใหม่\n"
   ]
  },
  {
   "cell_type": "markdown",
   "metadata": {},
   "source": [
    "5. การส่งงาน\n",
    "\n",
    "บันทึกภาพหน้าจอโปรแกรม แนบในใบงานนี้\n",
    "\n",
    "![Image](Picture/pic7.png)\n",
    "\n",
    "![Image](Picture/pic8.png)"
   ]
  }
 ],
 "metadata": {
  "kernelspec": {
   "display_name": ".NET (C#)",
   "language": "C#",
   "name": ".net-csharp"
  },
  "polyglot_notebook": {
   "kernelInfo": {
    "defaultKernelName": "csharp",
    "items": [
     {
      "aliases": [],
      "languageName": "csharp",
      "name": "csharp"
     }
    ]
   }
  }
 },
 "nbformat": 4,
 "nbformat_minor": 2
}
